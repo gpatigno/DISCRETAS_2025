{
 "cells": [
  {
   "cell_type": "code",
   "execution_count": null,
   "metadata": {},
   "outputs": [],
   "source": [
    "import sympy as sp\n",
    "from sympy.abc import x, y\n",
    "\n",
    "# Define a domain for x and y (e.g., natural numbers up to 10)\n",
    "domain_x = range(1, 11)\n",
    "domain_y = range(1, 11)\n",
    "\n",
    "# Example: Universal quantifier (∀x ∃y P(x, y)) - \"For all x, there exists a y such that P(x, y) holds\"\n",
    "def nested_quantifier(predicate, domain_x, domain_y):\n",
    "    for i in domain_x:\n",
    "        found = False\n",
    "        for j in domain_y:\n",
    "            if predicate(i, j):\n",
    "                print(f\"x = {i}, y = {j}, P(x, y) = {predicate(i, j)}\")\n",
    "                found = True\n",
    "                break\n",
    "        if not found:\n",
    "            return False\n",
    "    return True\n",
    "\n",
    "# Example predicate: P(x, y) = \"x + y is even\"\n",
    "P = lambda x, y: (x + y) % 2 == 0  \n",
    "\n",
    "# Testing nested quantifier\n",
    "print(\"∀x ∃y (x + y is even):\", nested_quantifier(P, domain_x, domain_y))\n"
   ]
  }
 ],
 "metadata": {
  "language_info": {
   "name": "python"
  }
 },
 "nbformat": 4,
 "nbformat_minor": 2
}
