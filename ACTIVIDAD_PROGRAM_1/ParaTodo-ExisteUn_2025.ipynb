{
 "cells": [
  {
   "cell_type": "code",
   "execution_count": null,
   "metadata": {},
   "outputs": [],
   "source": [
    "import sympy as sp\n",
    "from sympy.abc import x, y\n",
    "\n",
    "domain_x = range(1, 11) # Modifique el dominio de acuerdo al problema asignado.\n",
    "domain_y = range(1, 11) # Modifique el dominio de acuerdo al problema asignado.\n",
    "\n",
    "def nested_quantifier(predicate, domain_x, domain_y):\n",
    "    for i in domain_x:\n",
    "        found = False\n",
    "        for j in domain_y:\n",
    "            if predicate(i, j):\n",
    "                print(f\"x = {i}, y = {j}, P(x, y) = {predicate(i, j)}\")\n",
    "                found = True\n",
    "                break\n",
    "        if not found:\n",
    "            return False\n",
    "    return True\n",
    "\n",
    "P = lambda x, y: (x + y) % 2 == 0  \n",
    "\n",
    "print(\"\\nSo, the full expression: ∀x ∃y (x + y is even) is:\", nested_quantifier(P, domain_x, domain_y))\n"
   ]
  },
  {
   "cell_type": "code",
   "execution_count": null,
   "metadata": {},
   "outputs": [],
   "source": []
  }
 ],
 "metadata": {
  "kernelspec": {
   "display_name": "base",
   "language": "python",
   "name": "python3"
  },
  "language_info": {
   "codemirror_mode": {
    "name": "ipython",
    "version": 3
   },
   "file_extension": ".py",
   "mimetype": "text/x-python",
   "name": "python",
   "nbconvert_exporter": "python",
   "pygments_lexer": "ipython3",
   "version": "3.11.7"
  }
 },
 "nbformat": 4,
 "nbformat_minor": 2
}
