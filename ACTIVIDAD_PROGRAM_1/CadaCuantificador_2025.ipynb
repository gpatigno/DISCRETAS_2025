{
 "cells": [
  {
   "cell_type": "code",
   "execution_count": 3,
   "metadata": {},
   "outputs": [
    {
     "name": "stdout",
     "output_type": "stream",
     "text": [
      "∀x (x is even): False\n",
      "∀x (x > 0): True\n",
      "∀x (x > 5): False\n",
      "∃x (x is even): True\n",
      "∃x (x > 10): False\n",
      "∃x (x > 5): True\n"
     ]
    }
   ],
   "source": [
    "import sympy as sp\n",
    "from sympy.abc import x, y\n",
    "\n",
    "domain = range(1, 11) # Modifique el dominio de acuerdo al problema asignado.\n",
    "\n",
    "def universal_quantifier(predicate, domain):\n",
    "    return all(predicate(i) for i in domain)\n",
    "\n",
    "def existential_quantifier(predicate, domain):\n",
    "    return any(predicate(i) for i in domain)\n",
    "\n",
    "# Example predicates\n",
    "P = lambda x: x % 2 == 0  \n",
    "Q = lambda x: x > 5       \n",
    "\n",
    "print(\"∀x (x is even):\", universal_quantifier(P, domain))\n",
    "print(\"∀x (x > 0):\", universal_quantifier(lambda x: x > 0, domain))\n",
    "print(\"∀x (x > 5):\", universal_quantifier(Q, domain))\n",
    "\n",
    "print(\"∃x (x is even):\", existential_quantifier(P, domain))\n",
    "print(\"∃x (x > 10):\", existential_quantifier(lambda x: x > 10, domain))\n",
    "print(\"∃x (x > 5):\", existential_quantifier(Q, domain))\n"
   ]
  },
  {
   "cell_type": "code",
   "execution_count": null,
   "metadata": {},
   "outputs": [],
   "source": []
  }
 ],
 "metadata": {
  "kernelspec": {
   "display_name": "base",
   "language": "python",
   "name": "python3"
  },
  "language_info": {
   "codemirror_mode": {
    "name": "ipython",
    "version": 3
   },
   "file_extension": ".py",
   "mimetype": "text/x-python",
   "name": "python",
   "nbconvert_exporter": "python",
   "pygments_lexer": "ipython3",
   "version": "3.11.7"
  }
 },
 "nbformat": 4,
 "nbformat_minor": 2
}
