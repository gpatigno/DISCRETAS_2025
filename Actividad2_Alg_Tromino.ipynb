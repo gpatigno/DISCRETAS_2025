{
 "cells": [
  {
   "cell_type": "markdown",
   "id": "52689570",
   "metadata": {},
   "source": [
    "## Dado el código del algoritmo recursivo para el tablero de Trominós, realice las siguientes actividades:\n",
    "\n",
    "### 1. Identifique el área del código que implementa el caso \"base\".\n",
    "### 2. Identifique el área del código que implementa el caso \"recursivo\".\n",
    "### 3. Complete el código con los elementos faltantes (variables, valores asignados, etc)\n",
    "### 4. Agregue sus comentarios propios que expliquen el código y cada bloque.\n",
    "### 5. Ejecute el código para diferentes tamaños del tablero.\n",
    "### 6. En cada ejecución modifique la función del bloque \"deficiente\".\n",
    "### 7. Agregue su nombre y de sus compañeros de la actividad, y envie el código a adolfo.patino@udea.edu.co.\n"
   ]
  }
 ],
 "metadata": {
  "language_info": {
   "name": "python"
  }
 },
 "nbformat": 4,
 "nbformat_minor": 5
}
