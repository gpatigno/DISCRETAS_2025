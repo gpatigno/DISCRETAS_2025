{
 "cells": [
  {
   "cell_type": "code",
   "execution_count": null,
   "metadata": {},
   "outputs": [],
   "source": [
    "import sympy as sp\n",
    "from sympy.abc import x, y\n",
    "\n",
    "# Define a domain for x and y (e.g., natural numbers up to 10)\n",
    "domain = range(1, 11)\n",
    "\n",
    "# Example: Universal quantifier (∀x P(x)) - \"For all x, P(x) holds\"\n",
    "def universal_quantifier(predicate, domain):\n",
    "    return all(predicate(i) for i in domain)\n",
    "\n",
    "# Example: Existential quantifier (∃x P(x)) - \"There exists an x such that P(x) holds\"\n",
    "def existential_quantifier(predicate, domain):\n",
    "    return any(predicate(i) for i in domain)\n",
    "\n",
    "# Example predicates\n",
    "P = lambda x: x % 2 == 0  # \"x is even\"\n",
    "Q = lambda x: x > 5        # \"x is greater than 5\"\n",
    "\n",
    "# Testing universal quantifier\n",
    "print(\"∀x (x is even):\", universal_quantifier(P, domain))\n",
    "print(\"∀x (x > 0):\", universal_quantifier(lambda x: x > 0, domain))\n",
    "\n",
    "# Testing existential quantifier\n",
    "print(\"∃x (x is even):\", existential_quantifier(P, domain))\n",
    "print(\"∃x (x > 10):\", existential_quantifier(lambda x: x > 10, domain))\n"
   ]
  }
 ],
 "metadata": {
  "language_info": {
   "name": "python"
  }
 },
 "nbformat": 4,
 "nbformat_minor": 2
}
