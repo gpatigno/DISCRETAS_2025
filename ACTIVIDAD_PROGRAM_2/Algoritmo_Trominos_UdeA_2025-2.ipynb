{
 "cells": [
  {
   "cell_type": "code",
   "execution_count": null,
   "id": "40a7effb",
   "metadata": {},
   "outputs": [],
   "source": [
    "import numpy as np\n",
    "import matplotlib.pyplot as plt\n",
    "import matplotlib.colors as mcolors"
   ]
  },
  {
   "cell_type": "code",
   "execution_count": null,
   "id": "50526344",
   "metadata": {},
   "outputs": [],
   "source": [
    "# Contador global para numerar los trominós. \n",
    "# Explique:\n",
    "tromino_id = 1"
   ]
  },
  {
   "cell_type": "code",
   "execution_count": null,
   "id": "6127c57c",
   "metadata": {},
   "outputs": [],
   "source": [
    "def cubrir_tablero(tablero, n, fila_vacia, col_vacia, x, y):\n",
    "    global tromino_id\n",
    "\n",
    "    if n == 2:\n",
    "        for i in range(2):\n",
    "            for j in range(2):\n",
    "                if (x + i, y + j) != (fila_vacia, col_vacia):\n",
    "                    tablero[x + i][y + j] = tromino_id\n",
    "        tromino_id += 1\n",
    "        return\n",
    "\n",
    "# Con m redefines el tamaño del nuevo tablero a ser analizado en la recursión:\n",
    "    m = \n",
    "\n",
    "    cx, cy = x + m, y + m\n",
    "    f_mid, c_mid = cx - 1, cy - 1\n",
    "\n",
    "# Explique:\n",
    "    if fila_vacia < cx and col_vacia < cy:\n",
    "        cuadrante = 'sup_izq'\n",
    "    elif fila_vacia < cx and col_vacia >= cy:\n",
    "        cuadrante = 'sup_der'\n",
    "    elif fila_vacia >= cx and col_vacia < cy:\n",
    "        cuadrante = 'inf_izq'\n",
    "    else:\n",
    "        cuadrante = 'inf_der'\n",
    "\n",
    "# Explique:\n",
    "    if cuadrante != 'sup_izq':\n",
    "        tablero[f_mid][c_mid] = tromino_id\n",
    "    if cuadrante != 'sup_der':\n",
    "        tablero[f_mid][cy] = tromino_id\n",
    "    if cuadrante != 'inf_izq':\n",
    "        tablero[cx][c_mid] = tromino_id\n",
    "    if cuadrante != 'inf_der':\n",
    "        tablero[cx][cy] = tromino_id\n",
    "\n",
    "    current_id = tromino_id\n",
    "    tromino_id += 1\n",
    "\n",
    "# Explique:\n",
    "    cubrir_tablero(tablero, m,\n",
    "                   fila_vacia if cuadrante == 'sup_izq' else f_mid,\n",
    "                   col_vacia if cuadrante == 'sup_izq' else c_mid,\n",
    "                   x, y)\n",
    "\n",
    "    cubrir_tablero(tablero, m,\n",
    "                   fila_vacia if cuadrante == 'sup_der' else f_mid,\n",
    "                   col_vacia if cuadrante == 'sup_der' else cy,\n",
    "                   x, y + m)\n",
    "\n",
    "    cubrir_tablero(tablero, m,\n",
    "                   fila_vacia if cuadrante == 'inf_izq' else cx,\n",
    "                   col_vacia if cuadrante == 'inf_izq' else c_mid,\n",
    "                   x + m, y)\n",
    "\n",
    "    cubrir_tablero(tablero, m,\n",
    "                   fila_vacia if cuadrante == 'inf_der' else cx,\n",
    "                   col_vacia if cuadrante == 'inf_der' else cy,\n",
    "                   x + m, y + m)\n"
   ]
  },
  {
   "cell_type": "code",
   "execution_count": null,
   "id": "145d0e05",
   "metadata": {},
   "outputs": [],
   "source": [
    "def mostrar_tablero(tablero):\n",
    "    cmap = plt.cm.get_cmap(\"gist_ncar\", np.max(tablero) + 1)\n",
    "    cmap.set_under('black')  # Para la casilla faltante\n",
    "\n",
    "    plt.figure(figsize=(10, 10))\n",
    "    plt.imshow(tablero, cmap=cmap, norm=mcolors.Normalize(vmin=0, vmax=np.max(tablero)))\n",
    "    \n",
    "    for i in range(tablero.shape[0]):\n",
    "        for j in range(tablero.shape[1]):\n",
    "            val = tablero[i][j]\n",
    "            text = \"*\" if val == -1 else str(val)\n",
    "            plt.text(j, i, text, ha='center', va='center', color='white', fontsize=10)\n",
    "    \n",
    "    plt.title(\"Tablero cubierto con trominós (la casilla faltante está marcada con *)\")\n",
    "    plt.axis('off')\n",
    "    plt.tight_layout()\n",
    "    plt.show()"
   ]
  },
  {
   "cell_type": "code",
   "execution_count": null,
   "id": "f1158258",
   "metadata": {},
   "outputs": [],
   "source": [
    "# ---------- Parámetros iniciales del tablero ----------\n",
    "k =   # tamaño del tablero será 2^k x 2^k\n",
    "tam = \n",
    "tablero = np.zeros((   ,   ), dtype=int)\n",
    "\n",
    "# Coordenada de Casilla faltante (cuadro deficiente)\n",
    "fila_faltante = \n",
    "col_faltante = \n",
    "tablero[fila_faltante][col_faltante] = -1\n",
    "\n",
    "# Ejecutar algoritmo\n",
    "cubrir_tablero(tablero, tam, fila_faltante, col_faltante, 0, 0)\n",
    "\n",
    "# Visualizar\n",
    "mostrar_tablero(tablero)"
   ]
  }
 ],
 "metadata": {
  "kernelspec": {
   "display_name": "base",
   "language": "python",
   "name": "python3"
  },
  "language_info": {
   "codemirror_mode": {
    "name": "ipython",
    "version": 3
   },
   "file_extension": ".py",
   "mimetype": "text/x-python",
   "name": "python",
   "nbconvert_exporter": "python",
   "pygments_lexer": "ipython3",
   "version": "3.11.7"
  }
 },
 "nbformat": 4,
 "nbformat_minor": 5
}
